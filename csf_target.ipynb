{
 "cells": [
  {
   "cell_type": "code",
   "execution_count": 1,
   "metadata": {},
   "outputs": [],
   "source": [
    "from data_processing import generate_csf_image\n",
    "import numpy as np\n",
    "import matplotlib.pyplot as plt\n",
    "from reportlab.lib.pagesizes import A4\n",
    "from reportlab.pdfgen import canvas\n",
    "from reportlab.lib.units import mm\n"
   ]
  },
  {
   "cell_type": "code",
   "execution_count": 2,
   "metadata": {},
   "outputs": [],
   "source": [
    "def calculate_T_in_pix(spatial_frequency,distance_in_meter,dpi):\n",
    "    mm_per_degree = 1000 * distance_in_meter * np.tan(2 * np.pi / 360)\n",
    "    T_in_mm = (1 / spatial_frequency) * mm_per_degree\n",
    "    T_in_pixel = T_in_mm * dpi / 25.4\n",
    "    return int(T_in_pixel)\n",
    "def calculate_size_in_pix(size_in_mm,dpi):\n",
    "    size_in_pixel = size_in_mm * dpi / 25.4\n",
    "    return int(size_in_pixel)"
   ]
  },
  {
   "cell_type": "code",
   "execution_count": 3,
   "metadata": {},
   "outputs": [],
   "source": [
    "dpi = 1200\n",
    "size_in_mm = int(270/4)\n",
    "distance_in_meter=5\n",
    "size =calculate_size_in_pix(size_in_mm, dpi)\n",
    "T_list_in_cycle_per_deg = [3,6,12,18,24] \n",
    "# logCS=np.array([\n",
    "#     # [0.85,0.95,1.11,1.26,1.40,1.56,1.70,1.85,2.00],\n",
    "#     [1.00,1.18,1.30,1.46,1.60,1.76,1.90,2.05,2.20],\n",
    "#     [1.08,1.20,1.36,1.52,1.65,1.81,1.95,2.11,2.26],\n",
    "#     [0.90,1.04,1.18,1.34,1.48,1.63,1.78,1.93,2.08],\n",
    "#     [0.60,0.78,0.90,1.08,1.23,1.36,1.52,1.66,1.81]\n",
    "# ])\n",
    "logCS=np.linspace(1.0,2.0,12)\n",
    "contract_list = np.tile(10**(-logCS), (len(T_list_in_cycle_per_deg),1))\n",
    "T_list_in_pix = [calculate_T_in_pix(T, distance_in_meter, dpi) for T in T_list_in_cycle_per_deg]\n",
    "T_list = np.tile(T_list_in_pix, (logCS.shape[0], 1)).T\n",
    "contract_list=contract_list.flatten()\n",
    "T_list=T_list.flatten()\n",
    "text_list = '●'*len(T_list)\n",
    "angle_list = np.random.randint(-90, 90, len(text_list)) // 45 * 45\n",
    "\n"
   ]
  },
  {
   "cell_type": "code",
   "execution_count": 14,
   "metadata": {},
   "outputs": [
    {
     "name": "stdout",
     "output_type": "stream",
     "text": [
      "0.100 0.081 0.066 0.053 0.043 0.035 0.028 0.023 0.019 0.015 0.012 0.010 \n"
     ]
    }
   ],
   "source": [
    "tstring = \"\"\n",
    "for cs in 10**(-logCS):\n",
    "    tstring+=f\"{cs:.3f} \"\n",
    "print(tstring)"
   ]
  },
  {
   "cell_type": "code",
   "execution_count": null,
   "metadata": {},
   "outputs": [],
   "source": []
  },
  {
   "cell_type": "code",
   "execution_count": 4,
   "metadata": {},
   "outputs": [
    {
     "name": "stdout",
     "output_type": "stream",
     "text": [
      "size: 3165, T: 1374, contrast: 0.10, angle: 45\n",
      "size: 3165, T: 1374, contrast: 0.08, angle: -90\n",
      "size: 3165, T: 1374, contrast: 0.07, angle: -90\n",
      "size: 3165, T: 1374, contrast: 0.05, angle: 0\n",
      "size: 3165, T: 1374, contrast: 0.04, angle: -90\n",
      "size: 3165, T: 1374, contrast: 0.04, angle: 45\n",
      "size: 3165, T: 1374, contrast: 0.03, angle: 45\n",
      "size: 3165, T: 1374, contrast: 0.02, angle: 45\n",
      "size: 3165, T: 1374, contrast: 0.02, angle: -90\n",
      "size: 3165, T: 1374, contrast: 0.02, angle: -90\n",
      "size: 3165, T: 1374, contrast: 0.01, angle: -45\n",
      "size: 3165, T: 1374, contrast: 0.01, angle: 0\n",
      "size: 3165, T: 687, contrast: 0.10, angle: 45\n",
      "size: 3165, T: 687, contrast: 0.08, angle: 0\n",
      "size: 3165, T: 687, contrast: 0.07, angle: -90\n",
      "size: 3165, T: 687, contrast: 0.05, angle: -90\n",
      "size: 3165, T: 687, contrast: 0.04, angle: -45\n",
      "size: 3165, T: 687, contrast: 0.04, angle: -90\n",
      "size: 3165, T: 687, contrast: 0.03, angle: 0\n",
      "size: 3165, T: 687, contrast: 0.02, angle: 0\n",
      "size: 3165, T: 687, contrast: 0.02, angle: 45\n",
      "size: 3165, T: 687, contrast: 0.02, angle: -45\n",
      "size: 3165, T: 687, contrast: 0.01, angle: -45\n",
      "size: 3165, T: 687, contrast: 0.01, angle: 0\n",
      "size: 3165, T: 343, contrast: 0.10, angle: 45\n",
      "size: 3165, T: 343, contrast: 0.08, angle: -90\n",
      "size: 3165, T: 343, contrast: 0.07, angle: -45\n",
      "size: 3165, T: 343, contrast: 0.05, angle: 45\n",
      "size: 3165, T: 343, contrast: 0.04, angle: -90\n",
      "size: 3165, T: 343, contrast: 0.04, angle: 45\n",
      "size: 3165, T: 343, contrast: 0.03, angle: 45\n",
      "size: 3165, T: 343, contrast: 0.02, angle: -45\n",
      "size: 3165, T: 343, contrast: 0.02, angle: -90\n",
      "size: 3165, T: 343, contrast: 0.02, angle: 0\n",
      "size: 3165, T: 343, contrast: 0.01, angle: 0\n",
      "size: 3165, T: 343, contrast: 0.01, angle: -45\n",
      "size: 3165, T: 229, contrast: 0.10, angle: 0\n",
      "size: 3165, T: 229, contrast: 0.08, angle: 45\n",
      "size: 3165, T: 229, contrast: 0.07, angle: -90\n",
      "size: 3165, T: 229, contrast: 0.05, angle: -45\n",
      "size: 3165, T: 229, contrast: 0.04, angle: -90\n",
      "size: 3165, T: 229, contrast: 0.04, angle: 0\n",
      "size: 3165, T: 229, contrast: 0.03, angle: 45\n",
      "size: 3165, T: 229, contrast: 0.02, angle: -90\n",
      "size: 3165, T: 229, contrast: 0.02, angle: -90\n",
      "size: 3165, T: 229, contrast: 0.02, angle: 45\n",
      "size: 3165, T: 229, contrast: 0.01, angle: -90\n",
      "size: 3165, T: 229, contrast: 0.01, angle: 45\n",
      "size: 3165, T: 171, contrast: 0.10, angle: -90\n",
      "size: 3165, T: 171, contrast: 0.08, angle: 45\n",
      "size: 3165, T: 171, contrast: 0.07, angle: -90\n",
      "size: 3165, T: 171, contrast: 0.05, angle: 0\n",
      "size: 3165, T: 171, contrast: 0.04, angle: -45\n",
      "size: 3165, T: 171, contrast: 0.04, angle: 45\n",
      "size: 3165, T: 171, contrast: 0.03, angle: -45\n",
      "size: 3165, T: 171, contrast: 0.02, angle: 0\n",
      "size: 3165, T: 171, contrast: 0.02, angle: 0\n",
      "size: 3165, T: 171, contrast: 0.02, angle: 0\n",
      "size: 3165, T: 171, contrast: 0.01, angle: -45\n",
      "size: 3165, T: 171, contrast: 0.01, angle: 0\n"
     ]
    }
   ],
   "source": [
    "\n",
    "avg_value = 127\n",
    "blur_core=size//20*2+1\n",
    "blur_radius = blur_core //2\n",
    "\n",
    "# # for i,text in enumerate(text_list):\n",
    "#     T = T_list[i]\n",
    "#     angle = angle_list[i]\n",
    "#     contrast = contrast_list[i]\n",
    "i = 0 \n",
    "for text, T, contrast, angle in zip(text_list, T_list, contract_list, angle_list):\n",
    "\n",
    "    csf_image = generate_csf_image(size, T, contrast, angle, avg_value, text, blur_core, blur_radius)\n",
    "    # print(csf_image.shape)\n",
    "    fig, ax = plt.subplots(figsize=(csf_image.shape[1] / dpi, csf_image.shape[0] / dpi), dpi=dpi)\n",
    "    ax.imshow(csf_image, cmap='gray', vmin=0, vmax=255)\n",
    "    ax.axis('off')\n",
    "    plt.subplots_adjust(left=0, right=1, top=1, bottom=0)\n",
    "    plt.savefig(f'image_{i}.png', bbox_inches='tight', pad_inches=0)\n",
    "    plt.close(fig)\n",
    "    i += 1\n"
   ]
  },
  {
   "cell_type": "code",
   "execution_count": 5,
   "metadata": {},
   "outputs": [],
   "source": [
    "# 每页放置 12 张图像，3x4 均匀摆放\n",
    "images_per_page = 12\n",
    "rows = 4\n",
    "cols = 3\n",
    "\n",
    "# 创建 PDF\n",
    "# 将 A4 尺寸从点转换为像素\n",
    "width, height = [dim * dpi / 72 for dim in [8.3*72, 11.7*72]]\n",
    "\n",
    "# 创建 PDF 并设置页面大小\n",
    "c = canvas.Canvas(\"output.pdf\", pagesize=(width, height))\n",
    "\n",
    "image_width = width / cols\n",
    "image_height = height / rows\n",
    "\n",
    "\n",
    "for i in range(0, len(T_list), images_per_page):\n",
    "    for j in range(images_per_page):\n",
    "        if i + j >= len(T_list):\n",
    "            break\n",
    "        img_path = f'image_{i + j}.png'\n",
    "        x = (j % cols) * image_width\n",
    "        y = height - ((j // cols) + 1) * image_height\n",
    "        c.drawImage(img_path, x, y, width=size, height=size)\n",
    "    c.showPage()\n",
    "\n",
    "c.save()"
   ]
  },
  {
   "cell_type": "code",
   "execution_count": null,
   "metadata": {},
   "outputs": [],
   "source": []
  }
 ],
 "metadata": {
  "kernelspec": {
   "display_name": "z",
   "language": "python",
   "name": "python3"
  },
  "language_info": {
   "codemirror_mode": {
    "name": "ipython",
    "version": 3
   },
   "file_extension": ".py",
   "mimetype": "text/x-python",
   "name": "python",
   "nbconvert_exporter": "python",
   "pygments_lexer": "ipython3",
   "version": "3.10.14"
  }
 },
 "nbformat": 4,
 "nbformat_minor": 2
}
