{
 "cells": [
  {
   "cell_type": "code",
   "execution_count": 1,
   "metadata": {},
   "outputs": [],
   "source": [
    "import numpy as np\n",
    "import matplotlib.pyplot as plt\n",
    "from data_processing import estimate_contrast_sensitivity "
   ]
  },
  {
   "cell_type": "code",
   "execution_count": 25,
   "metadata": {},
   "outputs": [],
   "source": [
    "def response(x):\n",
    "    return 1/(1+np.exp(-(x-2.5)*10))+np.random.normal(0,0.05)\n",
    "    "
   ]
  },
  {
   "cell_type": "code",
   "execution_count": 26,
   "metadata": {},
   "outputs": [
    {
     "name": "stdout",
     "output_type": "stream",
     "text": [
      "[1. 3. 2.] [-0.09705698  0.89624986 -0.09036443]\n",
      "2.9279173471459736 1.0 0.09843226458439101\n",
      "2.6306745923634565 1.0 0.28453333306132683\n",
      "2.413748623456997 0.0 0.050339744813488206\n",
      "2.522663494130709 1.0 0.025526867358527675\n",
      "2.4682074532717038 0.0 0.012488468382892429\n",
      "2.4954353265495812 0.0 0.0062361568064663335\n",
      "2.5090841846879313 1.0 0.0032951273577578495\n",
      "2.5022827269806323 1.0 0.0015490311753711035\n",
      "2.4988517926014637 1.0 0.0007767327346888826\n",
      "2.4971467766423676 1.0 0.00038932550824225133\n"
     ]
    },
    {
     "name": "stderr",
     "output_type": "stream",
     "text": [
      "c:\\Users\\golde\\OneDrive\\code\\CSF\\data_processing.py:111: OptimizeWarning: Covariance of the parameters could not be estimated\n",
      "  popt, _ = curve_fit(sigmoid, x, y, p0, method='lm', maxfev=10000)\n"
     ]
    }
   ],
   "source": [
    "x = np.linspace(1, 3, 100)\n",
    "test_x=np.array([x.min(),x.max(),x.mean()])\n",
    "test_y = response(test_x)\n",
    "print(test_x,test_y)   \n",
    "for i in range(10):\n",
    "    next_x,ci = estimate_contrast_sensitivity(test_x,test_y)\n",
    "    next_y = np.round(response(next_x))\n",
    "    test_x = np.append(test_x,next_x)\n",
    "    test_y = np.append(test_y,next_y)\n",
    "    print(next_x,next_y,ci)"
   ]
  },
  {
   "cell_type": "code",
   "execution_count": null,
   "metadata": {},
   "outputs": [],
   "source": []
  }
 ],
 "metadata": {
  "kernelspec": {
   "display_name": "cv",
   "language": "python",
   "name": "python3"
  },
  "language_info": {
   "codemirror_mode": {
    "name": "ipython",
    "version": 3
   },
   "file_extension": ".py",
   "mimetype": "text/x-python",
   "name": "python",
   "nbconvert_exporter": "python",
   "pygments_lexer": "ipython3",
   "version": "3.10.14"
  }
 },
 "nbformat": 4,
 "nbformat_minor": 2
}
