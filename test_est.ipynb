{
 "cells": [
  {
   "cell_type": "code",
   "execution_count": 30,
   "metadata": {},
   "outputs": [],
   "source": [
    "import numpy as np\n",
    "import matplotlib.pyplot as plt\n",
    "from data_processing import estimate_contrast_sensitivity "
   ]
  },
  {
   "cell_type": "code",
   "execution_count": 31,
   "metadata": {},
   "outputs": [],
   "source": [
    "def response(x):\n",
    "    return 1/(1+np.exp(-(x-2.5)*10))+np.random.normal(0,0.1)\n",
    "    "
   ]
  },
  {
   "cell_type": "code",
   "execution_count": 32,
   "metadata": {},
   "outputs": [
    {
     "name": "stdout",
     "output_type": "stream",
     "text": [
      "[1. 3. 2.] [-0.01345699  0.97984986 -0.00676444]\n",
      "2.8448791115913186 1.0 0.11759137272941358\n",
      "2.514258314070899 1.0 0.13839649759264852\n",
      "2.3394660464225505 0.0 0.036185395732908285\n",
      "2.4266915075161744 0.0 0.017482865874821778\n",
      "2.4703674586975524 0.0 0.008815573697467868\n",
      "2.492281732661012 1.0 0.0043029907047753575\n",
      "2.4812258753967646 0.0 0.002252302369357601\n",
      "2.4867559346344184 1.0 0.0010931367995018857\n",
      "2.4839888436394997 0.0 0.0005437545143163288\n",
      "2.4853662796203437 1.0 0.00027518756769046894\n"
     ]
    }
   ],
   "source": [
    "x = np.linspace(1, 3, 100)\n",
    "test_x=np.array([x.min(),x.max(),x.mean()])\n",
    "test_y = response(test_x)\n",
    "print(test_x,test_y)   \n",
    "for i in range(10):\n",
    "    next_x,ci = estimate_contrast_sensitivity(test_x,test_y)\n",
    "    next_y = np.round(response(next_x))\n",
    "    test_x = np.append(test_x,next_x)\n",
    "    test_y = np.append(test_y,next_y)\n",
    "    print(next_x,next_y,ci)"
   ]
  },
  {
   "cell_type": "code",
   "execution_count": null,
   "metadata": {},
   "outputs": [],
   "source": []
  }
 ],
 "metadata": {
  "kernelspec": {
   "display_name": "cv",
   "language": "python",
   "name": "python3"
  },
  "language_info": {
   "codemirror_mode": {
    "name": "ipython",
    "version": 3
   },
   "file_extension": ".py",
   "mimetype": "text/x-python",
   "name": "python",
   "nbconvert_exporter": "python",
   "pygments_lexer": "ipython3",
   "version": "3.10.14"
  }
 },
 "nbformat": 4,
 "nbformat_minor": 2
}
