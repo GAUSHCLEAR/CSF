{
 "cells": [
  {
   "cell_type": "code",
   "execution_count": 2,
   "metadata": {},
   "outputs": [],
   "source": [
    "import numpy as np\n",
    "import matplotlib.pyplot as plt\n"
   ]
  },
  {
   "cell_type": "code",
   "execution_count": 7,
   "metadata": {},
   "outputs": [],
   "source": [
    "def sigmoid(x, x0, k):\n",
    "    return 1 / (1 + np.exp(-k*(x-x0)))\n",
    "def reverse_sigmoid(y, x0, k):\n",
    "    return x0 - np.log(1/y - 1) / k"
   ]
  },
  {
   "cell_type": "code",
   "execution_count": 19,
   "metadata": {},
   "outputs": [
    {
     "data": {
      "text/plain": [
       "58.888779583328805"
      ]
     },
     "execution_count": 19,
     "metadata": {},
     "output_type": "execute_result"
    }
   ],
   "source": [
    "np.log(1/0.05 - 1) /0.1 *2"
   ]
  },
  {
   "cell_type": "code",
   "execution_count": 20,
   "metadata": {},
   "outputs": [
    {
     "name": "stdout",
     "output_type": "stream",
     "text": [
      "0.10000132384072957\n"
     ]
    },
    {
     "data": {
      "image/png": "[encoded data removed]",
      "text/plain": [
       "<Figure size 640x480 with 1 Axes>"
      ]
     },
     "metadata": {},
     "output_type": "display_data"
    }
   ],
   "source": [
    "x=np.linspace(1,2.5,100)\n",
    "x0=1.75\n",
    "k=58.888\n",
    "y=sigmoid(x,x0,k)\n",
    "x1=reverse_sigmoid(0.05,x0,k)\n",
    "x2=reverse_sigmoid(0.95,x0,k)\n",
    "dx=np.abs(x2-x1)\n",
    "print(dx)\n",
    "plt.plot(x,y)\n",
    "plt.axvline(x=x1, color='r')\n",
    "plt.axvline(x=x2, color='r')\n",
    "plt.show()"
   ]
  },
  {
   "cell_type": "code",
   "execution_count": null,
   "metadata": {},
   "outputs": [],
   "source": []
  },
  {
   "cell_type": "code",
   "execution_count": 22,
   "metadata": {},
   "outputs": [],
   "source": [
    "import numpy as np\n",
    "from scipy.stats import norm\n",
    "\n",
    "# Sigmoid function\n",
    "def sigmoid(x, a, b):\n",
    "    return 1 / (1 + np.exp(-(x - a) / b))\n",
    "\n",
    "# Prior distribution (Gaussian)\n",
    "def prior_distribution(x, mean, std):\n",
    "    return norm.pdf(x, mean, std)\n",
    "\n",
    "def update_posterior(prior, contrast, response, a_range, b):\n",
    "    likelihood = sigmoid(contrast, a_range, b) if response == 1 else 1 - sigmoid(contrast, a_range, b)\n",
    "    posterior = prior * likelihood\n",
    "    posterior /= np.sum(posterior)  # Normalize\n",
    "    return posterior"
   ]
  },
  {
   "cell_type": "code",
   "execution_count": 23,
   "metadata": {},
   "outputs": [],
   "source": [
    "class ZESTIterator:\n",
    "    def __init__(self, mean, std, b, a_range):\n",
    "        self.a_range = a_range\n",
    "        self.prior = prior_distribution(a_range, mean, std)\n",
    "        self.b = b\n",
    "\n",
    "    def __call__(self, x, r):\n",
    "        for contrast, response in zip(x, r):\n",
    "            self.prior = update_posterior(self.prior, contrast, response, self.a_range, self.b)\n",
    "        \n",
    "        # Estimate threshold as the mean of the posterior distribution\n",
    "        threshold_est = np.sum(self.a_range * self.prior)\n",
    "        \n",
    "        # Estimate error as the standard deviation of the posterior distribution\n",
    "        err = np.sqrt(np.sum((self.a_range - threshold_est) ** 2 * self.prior))\n",
    "        \n",
    "        # Suggest next contrast level (e.g., mean of the posterior distribution)\n",
    "        x_next = self.a_range[np.argmax(self.prior)]\n",
    "        \n",
    "        return threshold_est, err, x_next\n",
    "    \n",
    "    "
   ]
  },
  {
   "cell_type": "code",
   "execution_count": 37,
   "metadata": {},
   "outputs": [
    {
     "name": "stdout",
     "output_type": "stream",
     "text": [
      "Estimated contrast threshold: 0.14493968442790564\n",
      "Estimated error: 0.053841841769583065\n",
      "Suggested next contrast level: 0.1515151515151516\n"
     ]
    }
   ],
   "source": [
    "# Example usage\n",
    "mean = 0.5  # Initial guess for the threshold\n",
    "std = 0.1   # Standard deviation of the prior\n",
    "b = 0.1     # Slope of the sigmoid function\n",
    "a_range = np.linspace(-1, 1, 100)  # Range of possible threshold values\n",
    "\n",
    "zest = ZESTIterator(mean, std, b, a_range)\n",
    "\n",
    "# Simulate some test data\n",
    "x = np.linspace(-1, 1, 50)\n",
    "# r = if x < 0 else 1\n",
    "r = np.where(x < 0, 0, 1)\n",
    "\n",
    "threshold_est, err, x_next = zest(x, r)\n",
    "print(f\"Estimated contrast threshold: {threshold_est}\")\n",
    "print(f\"Estimated error: {err}\")\n",
    "print(f\"Suggested next contrast level: {x_next}\")"
   ]
  },
  {
   "cell_type": "code",
   "execution_count": 35,
   "metadata": {},
   "outputs": [
    {
     "data": {
      "text/plain": [
       "array([0, 0, 0, 0, 0, 0, 0, 0, 0, 0, 1, 1, 1, 1, 1, 1, 1, 1, 1, 1])"
      ]
     },
     "execution_count": 35,
     "metadata": {},
     "output_type": "execute_result"
    }
   ],
   "source": [
    "r "
   ]
  },
  {
   "cell_type": "code",
   "execution_count": null,
   "metadata": {},
   "outputs": [],
   "source": []
  }
 ],
 "metadata": {
  "kernelspec": {
   "display_name": "cv",
   "language": "python",
   "name": "python3"
  },
  "language_info": {
   "codemirror_mode": {
    "name": "ipython",
    "version": 3
   },
   "file_extension": ".py",
   "mimetype": "text/x-python",
   "name": "python",
   "nbconvert_exporter": "python",
   "pygments_lexer": "ipython3",
   "version": "3.10.14"
  }
 },
 "nbformat": 4,
 "nbformat_minor": 2
}
