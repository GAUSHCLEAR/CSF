{
 "cells": [
  {
   "cell_type": "code",
   "execution_count": 9,
   "metadata": {},
   "outputs": [],
   "source": [
    "import numpy as np\n",
    "from scipy.stats import norm\n",
    "\n",
    "# Sigmoid function\n",
    "def sigmoid(x, a, b):\n",
    "    return 1 / (1 + np.exp(-(x - a) / b))\n",
    "\n",
    "# Prior distribution (Gaussian)\n",
    "def prior_distribution(x, mean, std):\n",
    "    return norm.pdf(x, mean, std)\n",
    "\n",
    "def update_posterior(prior, contrast, response, a_range, b):\n",
    "    likelihood = sigmoid(contrast, a_range, b) if response == 1 else 1 - sigmoid(contrast, a_range, b)\n",
    "    posterior = prior * likelihood\n",
    "    posterior /= np.sum(posterior)  # Normalize\n",
    "    return posterior"
   ]
  },
  {
   "cell_type": "code",
   "execution_count": 10,
   "metadata": {},
   "outputs": [],
   "source": [
    "class ZESTIterator:\n",
    "    def __init__(self, mean, std, b, a_range):\n",
    "        self.a_range = a_range\n",
    "        self.prior = prior_distribution(a_range, mean, std)\n",
    "        self.b = b\n",
    "\n",
    "    def __call__(self, x, r):\n",
    "        for contrast, response in zip(x, r):\n",
    "            self.prior = update_posterior(self.prior, contrast, response, self.a_range, self.b)\n",
    "        \n",
    "        # Estimate threshold as the mean of the posterior distribution\n",
    "        threshold_est = np.sum(self.a_range * self.prior)\n",
    "        \n",
    "        # Estimate error as the standard deviation of the posterior distribution\n",
    "        err = np.sqrt(np.sum((self.a_range - threshold_est) ** 2 * self.prior))\n",
    "        \n",
    "        # Suggest next contrast level (e.g., mean of the posterior distribution)\n",
    "        x_next = self.a_range[np.argmax(self.prior)]\n",
    "        \n",
    "        return threshold_est, err, x_next\n",
    "    \n",
    "    "
   ]
  },
  {
   "cell_type": "code",
   "execution_count": 11,
   "metadata": {},
   "outputs": [
    {
     "name": "stdout",
     "output_type": "stream",
     "text": [
      "Estimated contrast threshold: 0.45011697551846686\n",
      "Estimated error: 0.07545802045764448\n",
      "Suggested next contrast level: 0.4545454545454546\n"
     ]
    }
   ],
   "source": [
    "# Example usage\n",
    "mean = 0.5  # Initial guess for the threshold\n",
    "std = 0.1   # Standard deviation of the prior\n",
    "b = 0.1     # Slope of the sigmoid function\n",
    "a_range = np.linspace(-1, 1, 100)  # Range of possible threshold values\n",
    "\n",
    "zest = ZESTIterator(mean, std, b, a_range)\n",
    "\n",
    "# Simulate some test data\n",
    "x = [0, 0.2, 0.4, 0.6]\n",
    "r = [1, 1, 0, 0]\n",
    "\n",
    "threshold_est, err, x_next = zest(x, r)\n",
    "print(f\"Estimated contrast threshold: {threshold_est}\")\n",
    "print(f\"Estimated error: {err}\")\n",
    "print(f\"Suggested next contrast level: {x_next}\")"
   ]
  }
 ],
 "metadata": {
  "kernelspec": {
   "display_name": "cv",
   "language": "python",
   "name": "python3"
  },
  "language_info": {
   "codemirror_mode": {
    "name": "ipython",
    "version": 3
   },
   "file_extension": ".py",
   "mimetype": "text/x-python",
   "name": "python",
   "nbconvert_exporter": "python",
   "pygments_lexer": "ipython3",
   "version": "3.10.14"
  }
 },
 "nbformat": 4,
 "nbformat_minor": 2
}
